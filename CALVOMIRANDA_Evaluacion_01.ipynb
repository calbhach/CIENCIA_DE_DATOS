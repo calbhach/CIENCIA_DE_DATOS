{
 "cells": [
  {
   "cell_type": "markdown",
   "metadata": {},
   "source": [
    "# Ejercicio\n",
    "\n",
    "Obtener la versión de la librería pandas."
   ]
  },
  {
   "cell_type": "code",
   "execution_count": 37,
   "metadata": {},
   "outputs": [
    {
     "data": {
      "text/plain": [
       "'1.3.4'"
      ]
     },
     "execution_count": 37,
     "metadata": {},
     "output_type": "execute_result"
    }
   ],
   "source": [
    "import pandas as pd\n",
    "pd.__version__"
   ]
  },
  {
   "cell_type": "markdown",
   "metadata": {},
   "source": [
    "# Ejercicio\n",
    "\n",
    "Crear y visualizar un arreglo unidimensional que contenga 10 nros. entre 1 y 100 como una estructura Series.\n",
    "\n",
    "Obtener el tamaño de la lista"
   ]
  },
  {
   "cell_type": "code",
   "execution_count": 50,
   "metadata": {},
   "outputs": [
    {
     "name": "stdout",
     "output_type": "stream",
     "text": [
      "0    1\n",
      "1    2\n",
      "2    3\n",
      "3    4\n",
      "4    0\n",
      "5    5\n",
      "6    6\n",
      "7    7\n",
      "8    8\n",
      "9    9\n",
      "dtype: int32\n",
      "10\n"
     ]
    }
   ],
   "source": [
    "import numpy as np\n",
    "import pandas as pd\n",
    "\n",
    "arr = [1, 2, 3, 4, 0, 5, 6, 7, 8, 9]\n",
    "arr1 = np.array(arr, ndmin=1)\n",
    "s = pd.Series(arr1)\n",
    "\n",
    "print(s)\n",
    "print(s.size)"
   ]
  },
  {
   "cell_type": "markdown",
   "metadata": {},
   "source": [
    "# Ejercicio\n",
    "\n",
    "Aplicar las operaciones aritméticas básicas sobre una serie y un nro.\n",
    "\n",
    "\"*,/,+/-\"  tambien ==>  \"><= distinto\""
   ]
  },
  {
   "cell_type": "code",
   "execution_count": 59,
   "metadata": {
    "scrolled": true
   },
   "outputs": [
    {
     "name": "stdout",
     "output_type": "stream",
     "text": [
      "suma 0    10\n",
      "1    11\n",
      "2    87\n",
      "3    46\n",
      "4    62\n",
      "5     8\n",
      "dtype: int64\n",
      "resta 0     1\n",
      "1     2\n",
      "2    78\n",
      "3    37\n",
      "4    53\n",
      "5    -1\n",
      "dtype: int64\n",
      "multiplicación 0     45\n",
      "1     50\n",
      "2    430\n",
      "3    225\n",
      "4    305\n",
      "5     35\n",
      "dtype: int64\n",
      "división 0     3.000000\n",
      "1     3.333333\n",
      "2    28.666667\n",
      "3    15.000000\n",
      "4    20.333333\n",
      "5     2.333333\n",
      "dtype: float64\n",
      "distinto 0    False\n",
      "1    False\n",
      "2     True\n",
      "3    False\n",
      "4    False\n",
      "5    False\n",
      "dtype: bool\n"
     ]
    }
   ],
   "source": [
    "import pandas as pd\n",
    "\n",
    "datos = [9, 10, 86, 45, 61, 7]\n",
    "s = pd.Series(datos)\n",
    "suma = s + 1\n",
    "print('suma', suma)\n",
    "resta = s - 8\n",
    "print('resta', resta)\n",
    "multi = s * 5\n",
    "print('multiplicación', multi)\n",
    "divi = s / 3\n",
    "print('división', divi)\n",
    "dif = s == 86\n",
    "print('distinto', dif)"
   ]
  },
  {
   "cell_type": "markdown",
   "metadata": {},
   "source": [
    "# Ejercicio\n",
    "\n",
    "Aplicar las operaciones aritméticas básicas sobre dos  Series o más.\n",
    "\n",
    "\"*,/,+/-\""
   ]
  },
  {
   "cell_type": "code",
   "execution_count": 62,
   "metadata": {},
   "outputs": [
    {
     "name": "stdout",
     "output_type": "stream",
     "text": [
      "suma 0     17\n",
      "1     17\n",
      "2     92\n",
      "3     99\n",
      "4    151\n",
      "5     10\n",
      "dtype: int64\n",
      "resta 0     1\n",
      "1     3\n",
      "2    80\n",
      "3    -9\n",
      "4   -29\n",
      "5     4\n",
      "dtype: int64\n",
      "multiplicación 0      72\n",
      "1      70\n",
      "2     516\n",
      "3    2430\n",
      "4    5490\n",
      "5      21\n",
      "dtype: int64\n",
      "división 0     1.12\n",
      "1     1.43\n",
      "2    14.33\n",
      "3     0.83\n",
      "4     0.68\n",
      "5     2.33\n",
      "dtype: float64\n"
     ]
    }
   ],
   "source": [
    "import pandas as pd\n",
    "\n",
    "datos1 = [9, 10, 86, 45, 61, 7]\n",
    "datos2 = [8, 7, 6, 54, 90, 3]\n",
    "s1 = pd.Series(datos1)\n",
    "s2 = pd.Series(datos2)\n",
    "\n",
    "suma = s1 + s2\n",
    "print('suma', suma)\n",
    "resta = s1 - s2\n",
    "print('resta', resta)\n",
    "multi = s1 * s2\n",
    "print('multiplicación', multi)\n",
    "divi = s1 / s2\n",
    "print('división', divi.round(2))"
   ]
  },
  {
   "cell_type": "markdown",
   "metadata": {},
   "source": [
    "# Ejercicio \n",
    "\n",
    "Preocupese de Que funcione\n",
    "\n",
    "\n",
    "arreglo = np.array([2, 3, 5, 7, 11])\n",
    "\n",
    "serie = pd.Series(arreglo)\n",
    "\n",
    "datos = {'a': 10, 'b': 20, 'c': 30, 'd': 40}\n",
    "\n",
    "serie = pd.Series(datos)"
   ]
  },
  {
   "cell_type": "code",
   "execution_count": 64,
   "metadata": {},
   "outputs": [
    {
     "name": "stdout",
     "output_type": "stream",
     "text": [
      "serie 1 0     2\n",
      "1     3\n",
      "2     5\n",
      "3     7\n",
      "4    11\n",
      "dtype: int32\n",
      "serie 2 a    10\n",
      "b    20\n",
      "c    30\n",
      "d    40\n",
      "dtype: int64\n"
     ]
    }
   ],
   "source": [
    "arreglo = np.array([2, 3, 5, 7, 11])\n",
    "\n",
    "serie1 = pd.Series(arreglo)\n",
    "\n",
    "datos = {'a': 10, 'b': 20, 'c': 30, 'd': 40}\n",
    "\n",
    "serie2 = pd.Series(datos)\n",
    "\n",
    "print('serie 1', serie1)\n",
    "print('serie 2', serie2)\n"
   ]
  },
  {
   "cell_type": "markdown",
   "metadata": {},
   "source": [
    "# Ejercicio \n",
    "\n",
    "Obtener una columna de un objeto DataFrame como un objeto Series.\n",
    "\n",
    "datos = {'A': [1, 2, 3, 4, 5], 'B': [9, 8, 7, 6, 5], 'C': [2, 3, 5, 7, 11]}\n",
    "\n",
    "df = pd.DataFrame(data=datos)"
   ]
  },
  {
   "cell_type": "code",
   "execution_count": 103,
   "metadata": {},
   "outputs": [
    {
     "name": "stdout",
     "output_type": "stream",
     "text": [
      "<class 'pandas.core.series.Series'>\n"
     ]
    }
   ],
   "source": [
    "import pandas as pd\n",
    "datos = {'A': [1, 2, 3, 4, 5], 'B': [9, 8, 7, 6, 5], 'C': [2, 3, 5, 7, 11]}\n",
    "\n",
    "df = pd.DataFrame(data=datos)\n",
    "\n",
    "salida = df['A']\n",
    "print(salida)"
   ]
  },
  {
   "cell_type": "markdown",
   "metadata": {},
   "source": [
    "# Ejercicio \n",
    "\n",
    "Crear un DataFrame\n",
    "\n",
    "Extraer una fila de un DataFrame como un objeto Series.\n"
   ]
  },
  {
   "cell_type": "code",
   "execution_count": 113,
   "metadata": {},
   "outputs": [
    {
     "name": "stdout",
     "output_type": "stream",
     "text": [
      "<class 'pandas.core.series.Series'>\n"
     ]
    }
   ],
   "source": [
    "import pandas as pd\n",
    "import numpy as np\n",
    "\n",
    "datos = {'A': [1, 2, 3, 4, 5, 9, 10], 'B': [9, 8, 7, 6, 5, 7, 6], 'C': [2, 3, 5, 7, 10, 11, 4]}\n",
    "\n",
    "df = pd.DataFrame(data=datos)\n",
    "arr = pd.Series(df.iloc[3].values)\n",
    "\n",
    "print(arr)"
   ]
  },
  {
   "cell_type": "markdown",
   "metadata": {},
   "source": [
    "# Ejercicio\n",
    "\n",
    "Crear el Objeto, y luego transformaro a una sola fila\n",
    "\n",
    "0    [Colombia, Perú, Argentina]\n",
    "\n",
    "1             [Bolivia, Uruguay]\n",
    "\n",
    "2                        [Chile]"
   ]
  },
  {
   "cell_type": "code",
   "execution_count": 132,
   "metadata": {},
   "outputs": [
    {
     "name": "stdout",
     "output_type": "stream",
     "text": [
      "0    [Colombia,  Perú, Argentina]\n",
      "1              [Bolivia, Uruguay]\n",
      "2                         [Chile]\n",
      "Name: 1, dtype: object\n"
     ]
    }
   ],
   "source": [
    "#import numpy as np\n",
    "import pandas as pd\n",
    "\n",
    "datos = {0: ['Colombia', ' Perú','Argentina'], 1: ['Bolivia', 'Uruguay'], 2: ['Chile']}\n",
    "#datos = {[['Colombia', ' Perú','Argentina'], ['Bolivia', 'Uruguay'], ['Chile']], [0, 1, 2]}  \n",
    "data_items = datos.items()\n",
    "data_list = list(data_items)\n",
    "\n",
    "df = pd.DataFrame(data_list)\n",
    "\n",
    "fila = df.iloc[:,1]\n",
    "print(fila)\n",
    "\n"
   ]
  },
  {
   "cell_type": "markdown",
   "metadata": {},
   "source": [
    "# Ejercicio\n",
    "\n",
    "Ordenar los valores de un objeto Series\n",
    "\n",
    "datos = ['1.1', 'Python', '0.5', 'pandas', '2.8']\n",
    "\n",
    "serie = pd.Series(datos)"
   ]
  },
  {
   "cell_type": "code",
   "execution_count": 133,
   "metadata": {},
   "outputs": [
    {
     "name": "stdout",
     "output_type": "stream",
     "text": [
      "2       0.5\n",
      "0       1.1\n",
      "4       2.8\n",
      "1    Python\n",
      "3    pandas\n",
      "dtype: object\n"
     ]
    }
   ],
   "source": [
    "datos = ['1.1', 'Python', '0.5', 'pandas', '2.8']\n",
    "\n",
    "serie = pd.Series(datos)\n",
    "ordenada = serie.sort_values(ascending = True)\n",
    "\n",
    "print(ordenada)"
   ]
  },
  {
   "cell_type": "markdown",
   "metadata": {},
   "source": [
    "# Ejercicio\n",
    "\n",
    "Crear un objeto Series a partir de un filtro aplicado a otro objeto Series.\n",
    "datos = [0, 1, 2, 3, 4, 5, 6, 7, 8, 9]\n",
    "\n",
    "serie = pd.Series(datos)\n",
    "\n",
    "Obtener los menores a 5"
   ]
  },
  {
   "cell_type": "code",
   "execution_count": 134,
   "metadata": {},
   "outputs": [
    {
     "name": "stdout",
     "output_type": "stream",
     "text": [
      "0    0\n",
      "1    1\n",
      "2    2\n",
      "3    3\n",
      "4    4\n",
      "dtype: int64\n"
     ]
    }
   ],
   "source": [
    "datos = [0, 1, 2, 3, 4, 5, 6, 7, 8, 9]\n",
    "serie = pd.Series(datos)\n",
    "\n",
    "serie_nueva = serie[serie < 5]\n",
    "\n",
    "print(serie_nueva)"
   ]
  },
  {
   "cell_type": "markdown",
   "metadata": {},
   "source": [
    "# Ejercicio\n",
    "\n",
    "Obtener la desviación estándar, el promedio, maximo,minimo, sum de un conjunto de datos de una serie.\n",
    "\n",
    "Invente la data usted\n",
    "\n",
    "obtenga la info y el describe"
   ]
  },
  {
   "cell_type": "code",
   "execution_count": 137,
   "metadata": {},
   "outputs": [
    {
     "name": "stdout",
     "output_type": "stream",
     "text": [
      "desviación estándar 3.0276503540974917\n",
      "promedio 4.5\n",
      "máximo 9\n",
      "mínimo 0\n",
      "suma 45\n"
     ]
    }
   ],
   "source": [
    "datos = [0, 1, 2, 3, 4, 5, 6, 7, 8, 9]\n",
    "serie = pd.Series(datos)\n",
    "\n",
    "print('desviación estándar', serie.std())\n",
    "print('promedio', serie.mean())\n",
    "print('máximo', serie.max())\n",
    "print('mínimo', serie.min())\n",
    "print('suma', serie.sum())"
   ]
  },
  {
   "cell_type": "markdown",
   "metadata": {},
   "source": [
    "## Ejercicio\n",
    "\n",
    "Obtener dos objetos diferentes con los elementos pares e impares de un objeto Series numérico.\n",
    "\n",
    "datos = list(range(10))"
   ]
  },
  {
   "cell_type": "code",
   "execution_count": 139,
   "metadata": {},
   "outputs": [
    {
     "name": "stdout",
     "output_type": "stream",
     "text": [
      "pares 0    0\n",
      "2    2\n",
      "4    4\n",
      "6    6\n",
      "8    8\n",
      "dtype: int64\n",
      "impares 1    1\n",
      "3    3\n",
      "5    5\n",
      "7    7\n",
      "9    9\n",
      "dtype: int64\n"
     ]
    }
   ],
   "source": [
    "datos = list(range(10))\n",
    "serie = pd.Series(datos)\n",
    "\n",
    "pares = serie[serie % 2 == 0]\n",
    "\n",
    "print('pares', pares)\n",
    "\n",
    "impares = serie[serie % 2 == 1]\n",
    "\n",
    "print('impares', impares)"
   ]
  },
  {
   "cell_type": "markdown",
   "metadata": {},
   "source": [
    "# Ejercicio \n",
    "\n",
    "Eliminar los valores NaN de una serie con el método dropna.\n",
    "\n",
    "datos = ['2.3', 'Python', '90', '100', np.nan, '0.5', '.9']"
   ]
  },
  {
   "cell_type": "code",
   "execution_count": 145,
   "metadata": {},
   "outputs": [
    {
     "name": "stdout",
     "output_type": "stream",
     "text": [
      "0       2.3\n",
      "1    Python\n",
      "2        90\n",
      "3       100\n",
      "5       0.5\n",
      "6        .9\n",
      "dtype: object\n"
     ]
    }
   ],
   "source": [
    "import pandas as pd\n",
    "\n",
    "datos = ['2.3', 'Python', '90', '100', np.nan, '0.5', '.9']\n",
    "datos1 = pd.Series(datos)\n",
    "datos_clean = datos1.dropna()\n",
    "print(datos_clean)"
   ]
  },
  {
   "cell_type": "code",
   "execution_count": null,
   "metadata": {},
   "outputs": [],
   "source": []
  }
 ],
 "metadata": {
  "interpreter": {
   "hash": "fab0fde1f71e321925cb1aef8c0cc22058c43e5af495092d945cf5715ad1ad3a"
  },
  "kernelspec": {
   "display_name": "Python 3 (ipykernel)",
   "language": "python",
   "name": "python3"
  },
  "language_info": {
   "codemirror_mode": {
    "name": "ipython",
    "version": 3
   },
   "file_extension": ".py",
   "mimetype": "text/x-python",
   "name": "python",
   "nbconvert_exporter": "python",
   "pygments_lexer": "ipython3",
   "version": "3.9.7"
  }
 },
 "nbformat": 4,
 "nbformat_minor": 2
}
