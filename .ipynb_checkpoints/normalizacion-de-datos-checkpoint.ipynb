{
 "cells": [
  {
   "cell_type": "markdown",
   "id": "a44a4e56",
   "metadata": {},
   "source": [
    "<h2>Normalización de datos numéricos</h2>\n",
    "EL procedimiento típico es el Z-Score. Este procedimiento solo se realiza cuando los datos cumplen con el supuesto de normalidad.\n",
    "En el caso de que se tenga una distribución muy homogenea, conviene utilizar el método min-max.\n",
    "\n",
    "<b>Es normal que se pierdan datos al hacer una normalización, aquí lo importante es tener un porcentaje bajo de pérdida </b>\n",
    "\n",
    "<h3> z-score </h3>\n",
    "\n",
    "Aquí el promedio será 1, la sd = 1, y el rango estará entre -1 y 1"
   ]
  },
  {
   "cell_type": "code",
   "execution_count": 3,
   "id": "42026525",
   "metadata": {},
   "outputs": [],
   "source": [
    "import timeit #mide tiempo de procesamiento\n",
    "import numpy as np\n",
    "import pandas as pd\n",
    "import matplotlib.pyplot as plt\n",
    "import seaborn as sns\n",
    "from sklearn import datasets, linear_model\n",
    "from sklearn.preprocessing import MinMaxScaler #esto genera preprocesos de machinelearning"
   ]
  },
  {
   "cell_type": "code",
   "execution_count": 4,
   "id": "88a60cbb",
   "metadata": {},
   "outputs": [],
   "source": [
    "scaler = MinMaxScaler()\n",
    "X, y = datasets.load_diabetes(return_X_y = True) #X indica el índice de masa corporal, y es medida de la progresión de la diabetes\n",
    "raw = X[:, None, 2] #sabemos que la columna 2 de X es el índice de masa corporal, None está asignando esto a nuevo array"
   ]
  },
  {
   "cell_type": "code",
   "execution_count": 11,
   "id": "37af88e3",
   "metadata": {},
   "outputs": [
    {
     "data": {
      "text/plain": [
       "(array([32., 66., 98., 90., 64., 50., 23., 12.,  5.,  2.]),\n",
       " array([-0.0902753 , -0.06419224, -0.03810919, -0.01202614,  0.01405691,\n",
       "         0.04013997,  0.06622302,  0.09230607,  0.11838912,  0.14447217,\n",
       "         0.17055523]),\n",
       " <BarContainer object of 10 artists>)"
      ]
     },
     "execution_count": 11,
     "metadata": {},
     "output_type": "execute_result"
    },
    {
     "data": {
      "image/png": "[encoded data removed]",
      "text/plain": [
       "<Figure size 432x288 with 1 Axes>"
      ]
     },
     "metadata": {
      "needs_background": "light"
     },
     "output_type": "display_data"
    }
   ],
   "source": [
    "#Reglas de escalamiento y normalización\n",
    "#Usaremos el método min-max (que está cargado en la línea 7 del primer párrafo)\n",
    "#El método min-max se hace para distribuciones no normales\n",
    "\n",
    "max_raw = max(raw)\n",
    "min_raw = min(raw)\n",
    "\n",
    "plt.hist(raw) #aquí vemos que la distribución no es normal"
   ]
  },
  {
   "cell_type": "code",
   "execution_count": 47,
   "id": "506b9219",
   "metadata": {},
   "outputs": [
    {
     "data": {
      "text/plain": [
       "(array([32., 66., 98., 90., 64., 50., 23., 12.,  5.,  2.]),\n",
       " array([0. , 0.1, 0.2, 0.3, 0.4, 0.5, 0.6, 0.7, 0.8, 0.9, 1. ]),\n",
       " <BarContainer object of 10 artists>)"
      ]
     },
     "execution_count": 47,
     "metadata": {},
     "output_type": "execute_result"
    },
    {
     "data": {
      "image/png": "[encoded data removed]",
      "text/plain": [
       "<Figure size 432x288 with 1 Axes>"
      ]
     },
     "metadata": {
      "needs_background": "light"
     },
     "output_type": "display_data"
    }
   ],
   "source": [
    "scaled = (2 * raw - max_raw - min_raw)/(max_raw-min_raw) #esta es la fórmula para escalar los datos\n",
    "scaled = scaler.fit_transform(raw)\n",
    "plt.hist(scaled)"
   ]
  },
  {
   "cell_type": "code",
   "execution_count": 48,
   "id": "1d19dc38",
   "metadata": {},
   "outputs": [
    {
     "data": {
      "image/png": "[encoded data removed]",
      "text/plain": [
       "<Figure size 432x288 with 2 Axes>"
      ]
     },
     "metadata": {
      "needs_background": "light"
     },
     "output_type": "display_data"
    }
   ],
   "source": [
    "#fig permite hacer varios gráficos en una misma figura\n",
    "fig, axs = plt.subplots(2, 1, sharex = True)\n",
    "axs[0].hist(raw)\n",
    "axs[1].hist(scaled)\n",
    "plt.show()"
   ]
  },
  {
   "cell_type": "markdown",
   "id": "8427fc14",
   "metadata": {},
   "source": [
    "Fijarse que el proceso de escalamiento distribuye los datos entre 0 y 1, manteniendo el máximo en el Y, pero repartiéndolo de manera más homogénea"
   ]
  },
  {
   "cell_type": "markdown",
   "id": "1d00a7e6",
   "metadata": {},
   "source": [
    "<h4> Aprendizaje supervisado y no supervisado </h4>\n",
    "El aprendizaje supervisado implica que el analista le asigna categorías que la máquina comprende, en el caso del aprendizaje no supervisado, la máquina analiza todo por sí misma"
   ]
  },
  {
   "cell_type": "code",
   "execution_count": 49,
   "id": "c0dfc76d",
   "metadata": {},
   "outputs": [],
   "source": [
    "#Entrenar en una función para predecir y.\n",
    "#se define una función que lo hará\n",
    "def train_raw():\n",
    "    linear_model.LinearRegression().fit(raw,y)\n",
    "    \n",
    "def train_scaled():\n",
    "    linear_model.LinearRegression().fit(scaled,y)\n",
    "    \n",
    "#funciones con datos escalados y no escalados"
   ]
  },
  {
   "cell_type": "code",
   "execution_count": 50,
   "id": "2532a101",
   "metadata": {},
   "outputs": [],
   "source": [
    "#revisaremos el tiempo que demora en ejecutar cada función, \n",
    "#con esto vamos a evaluar el gasto de procesamiento para trabajar datos no escalados"
   ]
  },
  {
   "cell_type": "code",
   "execution_count": 51,
   "id": "79049f17",
   "metadata": {},
   "outputs": [
    {
     "name": "stdout",
     "output_type": "stream",
     "text": [
      "train_raw: 0.054696100000001024\n",
      "train_scaled: 0.04686040000160574\n",
      "eficiencia: 0.8567411570771017\n"
     ]
    }
   ],
   "source": [
    "raw_time = timeit.timeit(train_raw, number = 100)\n",
    "scaled_time = timeit.timeit(train_scaled, number = 100) #estamos pidiendo que se registre el tiempo de repetición de la función\n",
    "\n",
    "print(\"train_raw: {}\".format(raw_time))\n",
    "print(\"train_scaled: {}\".format(scaled_time))\n",
    "print(\"eficiencia: {}\".format((scaled_time/raw_time)))"
   ]
  },
  {
   "cell_type": "markdown",
   "id": "ce4bdadb",
   "metadata": {},
   "source": [
    "El tiempo de procesamiento es menor cuando los datos están escalados, es un 62% del tiempo para datos no escalados"
   ]
  },
  {
   "cell_type": "markdown",
   "id": "bfcd18d4",
   "metadata": {},
   "source": [
    "- max-min scaling = es mejor para datos uniformente distribuidos\n",
    "- z-score scaling = es mejor para datos con distribución normal"
   ]
  },
  {
   "cell_type": "code",
   "execution_count": 52,
   "id": "8f137ca2",
   "metadata": {},
   "outputs": [],
   "source": [
    "#probamos con z-score"
   ]
  },
  {
   "cell_type": "code",
   "execution_count": 53,
   "id": "bcce8e42",
   "metadata": {},
   "outputs": [
    {
     "data": {
      "image/png": "[encoded data removed]",
      "text/plain": [
       "<Figure size 432x288 with 3 Axes>"
      ]
     },
     "metadata": {
      "needs_background": "light"
     },
     "output_type": "display_data"
    }
   ],
   "source": [
    "#obtenemos promedio y desviación estándar\n",
    "promedio = raw.mean()\n",
    "desviacion = raw.std()\n",
    "\n",
    "scaled_z = (raw - promedio) / desviacion\n",
    "\n",
    "#graficamos para comparar\n",
    "fig, axs = plt.subplots(3, 1, sharex = True)\n",
    "axs[0].hist(raw)\n",
    "axs[1].hist(scaled)\n",
    "axs[2].hist(scaled_z)\n",
    "plt.show()"
   ]
  },
  {
   "cell_type": "markdown",
   "id": "efc347a4",
   "metadata": {},
   "source": [
    "Podemos ver que los distintos procesos de escalamiento transforman la distribución, aunque conservan los datos mínimos y máximos del eje Y. En el caso del min-max, los valores quedan comprendidos entre 0 y 1, mientras que para la normalización con z-score, los valores van entre desviaciones estándar negativas y positivas"
   ]
  },
  {
   "cell_type": "code",
   "execution_count": 54,
   "id": "0d92d046",
   "metadata": {},
   "outputs": [],
   "source": [
    "def train_scaled_z():\n",
    "    linear_model.LinearRegression().fit(scaled_z, y)"
   ]
  },
  {
   "cell_type": "code",
   "execution_count": 55,
   "id": "bad19198",
   "metadata": {},
   "outputs": [],
   "source": [
    "#evaluaremos la performance igual que la vez anterior"
   ]
  },
  {
   "cell_type": "code",
   "execution_count": 56,
   "id": "6c3586e3",
   "metadata": {},
   "outputs": [
    {
     "name": "stdout",
     "output_type": "stream",
     "text": [
      "Trained Raw: 0.054696100000001024\n",
      "Trained Scaled: 0.04686040000160574\n",
      "Trained Z-Scaled: 0.04742950000036217\n"
     ]
    }
   ],
   "source": [
    "scaled_z_time = timeit.timeit(train_scaled_z, number = 100)\n",
    "print(\"Trained Raw: {}\".format(raw_time))\n",
    "print(\"Trained Scaled: {}\".format(scaled_time))\n",
    "print(\"Trained Z-Scaled: {}\".format(scaled_z_time))"
   ]
  },
  {
   "cell_type": "markdown",
   "id": "f5ef5e0e",
   "metadata": {},
   "source": [
    "<h2> Ahora normalizaremos una distribución no homogénea, y fuertemente sesgada </h2>\n",
    "Usaremos el método de la tangente hiperbólica. ¿Qué significa esto? Que los valores serán multiplicados por la función tangente hiperbólica, con lo que pasarán de tener las diferencias del eje X a las del eje Y de dicha distribución"
   ]
  },
  {
   "cell_type": "code",
   "execution_count": 58,
   "id": "49a9a62c",
   "metadata": {},
   "outputs": [
    {
     "data": {
      "image/png": "[encoded data removed]",
      "text/plain": [
       "<Figure size 432x288 with 1 Axes>"
      ]
     },
     "metadata": {
      "needs_background": "light"
     },
     "output_type": "display_data"
    }
   ],
   "source": [
    "df = pd.read_csv(\"cars.csv\")\n",
    "df.price_usd.hist() #hazme el histograma a la variable price_usd al dataframe df\n",
    "plt.show()"
   ]
  },
  {
   "cell_type": "markdown",
   "id": "dd88f4b4",
   "metadata": {},
   "source": [
    "<h4> Ahora haremos la transformación por medio de la tangente hiperbólica </h4>"
   ]
  },
  {
   "cell_type": "code",
   "execution_count": 59,
   "id": "e7240192",
   "metadata": {},
   "outputs": [
    {
     "data": {
      "text/plain": [
       "<AxesSubplot:>"
      ]
     },
     "execution_count": 59,
     "metadata": {},
     "output_type": "execute_result"
    },
    {
     "data": {
      "image/png": "[encoded data removed]",
      "text/plain": [
       "<Figure size 432x288 with 1 Axes>"
      ]
     },
     "metadata": {
      "needs_background": "light"
     },
     "output_type": "display_data"
    }
   ],
   "source": [
    "df.price_usd.apply(lambda x: np.tanh(x)).hist() "
   ]
  },
  {
   "cell_type": "markdown",
   "id": "5d7bd87f",
   "metadata": {},
   "source": [
    "Si notamos, aplicar la tangente hiperbólica en bruto nos entrega una distribución demasiado homogénea como para analizar. Debemos hacer una modificación."
   ]
  },
  {
   "cell_type": "code",
   "execution_count": 60,
   "id": "a8c3bb64",
   "metadata": {},
   "outputs": [
    {
     "data": {
      "text/plain": [
       "<AxesSubplot:>"
      ]
     },
     "execution_count": 60,
     "metadata": {},
     "output_type": "execute_result"
    },
    {
     "data": {
      "image/png": "[encoded data removed]",
      "text/plain": [
       "<Figure size 432x288 with 1 Axes>"
      ]
     },
     "metadata": {
      "needs_background": "light"
     },
     "output_type": "display_data"
    }
   ],
   "source": [
    "p = 1000\n",
    "df.price_usd.apply(lambda x: np.tanh(x/p)).hist() "
   ]
  },
  {
   "cell_type": "code",
   "execution_count": 61,
   "id": "c50eb0c5",
   "metadata": {},
   "outputs": [
    {
     "data": {
      "text/plain": [
       "<AxesSubplot:>"
      ]
     },
     "execution_count": 61,
     "metadata": {},
     "output_type": "execute_result"
    },
    {
     "data": {
      "image/png": "[encoded data removed]",
      "text/plain": [
       "<Figure size 432x288 with 1 Axes>"
      ]
     },
     "metadata": {
      "needs_background": "light"
     },
     "output_type": "display_data"
    }
   ],
   "source": [
    "p = 10000\n",
    "df.price_usd.apply(lambda x: np.tanh(x/p)).hist() "
   ]
  },
  {
   "cell_type": "markdown",
   "id": "5ab782bd",
   "metadata": {},
   "source": [
    "<h4> Ahora podemos ver que los datos se ven más uniformes, \n",
    "solo porque hemos ido dividiendo los valores en la función tangente hiperbólica </h4>"
   ]
  },
  {
   "cell_type": "code",
   "execution_count": null,
   "id": "e18dbc96",
   "metadata": {},
   "outputs": [],
   "source": []
  }
 ],
 "metadata": {
  "kernelspec": {
   "display_name": "Python 3 (ipykernel)",
   "language": "python",
   "name": "python3"
  },
  "language_info": {
   "codemirror_mode": {
    "name": "ipython",
    "version": 3
   },
   "file_extension": ".py",
   "mimetype": "text/x-python",
   "name": "python",
   "nbconvert_exporter": "python",
   "pygments_lexer": "ipython3",
   "version": "3.9.7"
  }
 },
 "nbformat": 4,
 "nbformat_minor": 5
}
