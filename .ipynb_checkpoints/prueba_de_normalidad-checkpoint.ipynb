{
 "cells": [
  {
   "cell_type": "code",
   "execution_count": 22,
   "id": "a4d0a472",
   "metadata": {},
   "outputs": [],
   "source": [
    "import numpy as np\n",
    "import pandas as pd\n",
    "import scipy as sc\n",
    "import matplotlib.pyplot as plt\n",
    "from scipy import stats"
   ]
  },
  {
   "cell_type": "code",
   "execution_count": 23,
   "id": "2eabe0a0",
   "metadata": {},
   "outputs": [
    {
     "name": "stdout",
     "output_type": "stream",
     "text": [
      "p =  [0.]\n",
      "The null hypothesis can be rejected\n"
     ]
    },
    {
     "data": {
      "image/png": "[encoded data removed]",
      "text/plain": [
       "<Figure size 432x288 with 1 Axes>"
      ]
     },
     "metadata": {
      "needs_background": "light"
     },
     "output_type": "display_data"
    }
   ],
   "source": [
    "#aplicamos a l variable odometer_value del set de datos cars.\n",
    "df = pd.read_csv(\"cars.csv\")\n",
    "odo = df[[\"odometer_value\"]]\n",
    "plt.hist(df[[\"odometer_value\"]])\n",
    "k2, p = stats.normaltest(odo)\n",
    "alpha = 1e-3\n",
    "print(\"p = \", p)\n",
    "p = 8.4713e-19\n",
    "if p < alpha:  # null hypothesis: x comes from a normal distribution\n",
    "    print(\"The null hypothesis can be rejected\")\n",
    "else:\n",
    "    print(\"The null hypothesis cannot be rejected\")"
   ]
  },
  {
   "cell_type": "code",
   "execution_count": 10,
   "id": "ddbf2b89",
   "metadata": {},
   "outputs": [
    {
     "name": "stdout",
     "output_type": "stream",
     "text": [
      "p = 1.21879e-12\n",
      "The null hypothesis can be rejected\n"
     ]
    }
   ],
   "source": [
    "#aplicamos en una variable totalmente aleatoria. código obtenido del manual de scipy \n",
    "#https://docs.scipy.org/doc/scipy/reference/generated/scipy.stats.normaltest.html\n",
    "from scipy import stats\n",
    "rng = np.random.default_rng()\n",
    "pts = 1000\n",
    "a = rng.normal(0, 1, size=pts)\n",
    "b = rng.normal(2, 1, size=pts)\n",
    "x = np.concatenate((a, b))\n",
    "k2, p = stats.normaltest(x)\n",
    "alpha = 1e-3\n",
    "print(\"p = {:g}\".format(p))\n",
    "p = 8.4713e-19\n",
    "if p < alpha:  # null hypothesis: x comes from a normal distribution\n",
    "    print(\"The null hypothesis can be rejected\")\n",
    "else:\n",
    "    print(\"The null hypothesis cannot be rejected\")"
   ]
  },
  {
   "cell_type": "code",
   "execution_count": 11,
   "id": "7f880ee7",
   "metadata": {},
   "outputs": [
    {
     "name": "stdout",
     "output_type": "stream",
     "text": [
      "p = 3.85215e-13\n",
      "The null hypothesis can be rejected\n"
     ]
    }
   ],
   "source": [
    "#volvemos a aplicar, para confirmar el efecto del rng\n",
    "from scipy import stats\n",
    "rng = np.random.default_rng()\n",
    "pts = 1000\n",
    "a = rng.normal(0, 1, size=pts)\n",
    "b = rng.normal(2, 1, size=pts)\n",
    "x = np.concatenate((a, b))\n",
    "k2, p = stats.normaltest(x)\n",
    "alpha = 1e-3\n",
    "print(\"p = {:g}\".format(p))\n",
    "p = 8.4713e-19\n",
    "if p < alpha:  # null hypothesis: x comes from a normal distribution\n",
    "    print(\"The null hypothesis can be rejected\")\n",
    "else:\n",
    "    print(\"The null hypothesis cannot be rejected\")"
   ]
  },
  {
   "cell_type": "code",
   "execution_count": null,
   "id": "448b1982",
   "metadata": {},
   "outputs": [],
   "source": []
  }
 ],
 "metadata": {
  "kernelspec": {
   "display_name": "Python 3 (ipykernel)",
   "language": "python",
   "name": "python3"
  },
  "language_info": {
   "codemirror_mode": {
    "name": "ipython",
    "version": 3
   },
   "file_extension": ".py",
   "mimetype": "text/x-python",
   "name": "python",
   "nbconvert_exporter": "python",
   "pygments_lexer": "ipython3",
   "version": "3.9.7"
  }
 },
 "nbformat": 4,
 "nbformat_minor": 5
}
