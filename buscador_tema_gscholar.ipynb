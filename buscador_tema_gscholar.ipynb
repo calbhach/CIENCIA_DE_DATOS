{
 "cells": [
  {
   "cell_type": "markdown",
   "id": "5da497a0",
   "metadata": {},
   "source": [
    "<h1> Generador de archivos publicaciones por tema Google Scholar </h1>\n",
    "\n",
    "Este notebook contiene un script para generar listados de publicaciones para un autor de acuerdo a lo indexado en Google Scholar. El archivo generado tiene las siguientes características\n",
    "1. Está en formato csv con el tema buscado\n",
    "2. Se guarda automáticamente en la carpeta en que está el notebook\n",
    "3. Contiene 20 resultados de la búsqueda\n",
    "4. No incluye hipervínculos de descarga"
   ]
  },
  {
   "cell_type": "code",
   "execution_count": 1,
   "id": "57861d23",
   "metadata": {},
   "outputs": [],
   "source": [
    "#carga de librerías\n",
    "\n",
    "from selenium import webdriver\n",
    "from selenium.webdriver.support.ui import WebDriverWait\n",
    "from selenium.webdriver.support import expected_conditions as EC\n",
    "from selenium.webdriver.common.by import By\n",
    "import time\n",
    "import pandas as pd"
   ]
  },
  {
   "cell_type": "code",
   "execution_count": 2,
   "id": "561cdcf0",
   "metadata": {},
   "outputs": [],
   "source": [
    "#opciones de navegación\n",
    "options = webdriver.ChromeOptions()\n",
    "options.add_argument('--start-maximized')\n",
    "options.add_argument('--disable-extensions')\n",
    "driver_path = 'C:\\\\Users\\\\Carlos\\\\Downloads\\\\chromedriver_win32\\\\chromedriver.exe'"
   ]
  },
  {
   "cell_type": "markdown",
   "id": "33942125",
   "metadata": {},
   "source": [
    "En la siguiente línea se debe indicar el nombre del autor a buscar, en el formato Nombre+Apellido"
   ]
  },
  {
   "cell_type": "code",
   "execution_count": 3,
   "id": "11897124",
   "metadata": {},
   "outputs": [],
   "source": [
    "buscando = \"saberes+psi\""
   ]
  },
  {
   "cell_type": "code",
   "execution_count": null,
   "id": "91448ca1",
   "metadata": {},
   "outputs": [],
   "source": [
    "titulos_lista = list()\n",
    "autores_lista = list()\n",
    "referencia_lista = list()\n",
    "año_lista = list()\n",
    "\n",
    "driver = webdriver.Chrome(driver_path, chrome_options = options)\n",
    "\n",
    "#en la redacción del hipervínculo le hemos indicado num=100, pero el máximo que arroja google es 20\n",
    "driver.get('https://scholar.google.com/scholar?q=%22{}%22&hl=es&num=100&as_sdt=0&as_ylo=2010&as_yhi=2022'.format(buscando))\n",
    "\n",
    "info = driver.find_elements(By.CLASS_NAME, 'gs_r.gs_or.gs_scl')\n",
    "\n",
    "#el bucle for permite recorrer la lista de resultados\n",
    "for i in range(0, len(info)):\n",
    "    trabajando = info[i].text\n",
    "    listado = trabajando.split(\"\\n\")\n",
    "    titulo_temp = listado[1]\n",
    "    datos = listado[2]\n",
    "    autores_temp = datos.split(\" - \")[0]\n",
    "    #print(i, autores_temp)\n",
    "    try:\n",
    "        referencia_crudo = datos.split(\" - \")[1]\n",
    "    except IndexError:\n",
    "            referencia_crudo == \"NaN\"        \n",
    "    #print(i, referencia_crudo)\n",
    "    referencia_temp = referencia_crudo.split(\",\")[0]\n",
    "    año_temp = referencia_crudo.split(\",\")[-1]\n",
    "    #print(i, año_temp)\n",
    "    titulos_lista.append(listado[1])\n",
    "    autores_lista.append(autores_temp)\n",
    "    referencia_lista.append(referencia_temp)\n",
    "    año_lista.append(año_temp)\n",
    "    \n",
    "revision = pd.DataFrame({\"título\" : titulos_lista, \"autores\" : autores_lista, \"referencia\" : referencia_lista, \"año\" : año_lista})\n",
    "\n",
    "revision.to_csv('revision_{}.csv'.format(buscando), encoding='utf-8')\n",
    "\n",
    "#cerramos el driver y la ventana de Chrome\n",
    "\n",
    "driver.close()\n",
    "driver.quit()"
   ]
  }
 ],
 "metadata": {
  "kernelspec": {
   "display_name": "Python 3 (ipykernel)",
   "language": "python",
   "name": "python3"
  },
  "language_info": {
   "codemirror_mode": {
    "name": "ipython",
    "version": 3
   },
   "file_extension": ".py",
   "mimetype": "text/x-python",
   "name": "python",
   "nbconvert_exporter": "python",
   "pygments_lexer": "ipython3",
   "version": "3.9.7"
  }
 },
 "nbformat": 4,
 "nbformat_minor": 5
}
