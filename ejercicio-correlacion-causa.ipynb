{
 "cells": [
  {
   "cell_type": "code",
   "execution_count": 23,
   "id": "d1c5ab26",
   "metadata": {},
   "outputs": [
    {
     "data": {
      "text/html": [
       "<div>\n",
       "<style scoped>\n",
       "    .dataframe tbody tr th:only-of-type {\n",
       "        vertical-align: middle;\n",
       "    }\n",
       "\n",
       "    .dataframe tbody tr th {\n",
       "        vertical-align: top;\n",
       "    }\n",
       "\n",
       "    .dataframe thead th {\n",
       "        text-align: right;\n",
       "    }\n",
       "</style>\n",
       "<table border=\"1\" class=\"dataframe\">\n",
       "  <thead>\n",
       "    <tr style=\"text-align: right;\">\n",
       "      <th></th>\n",
       "      <th>Accomplished 2021</th>\n",
       "      <th>Expecting to accomplish 2022</th>\n",
       "    </tr>\n",
       "  </thead>\n",
       "  <tbody>\n",
       "    <tr>\n",
       "      <th>count</th>\n",
       "      <td>7.000000</td>\n",
       "      <td>16.000000</td>\n",
       "    </tr>\n",
       "    <tr>\n",
       "      <th>mean</th>\n",
       "      <td>3.714286</td>\n",
       "      <td>3.562500</td>\n",
       "    </tr>\n",
       "    <tr>\n",
       "      <th>std</th>\n",
       "      <td>0.951190</td>\n",
       "      <td>1.152895</td>\n",
       "    </tr>\n",
       "    <tr>\n",
       "      <th>min</th>\n",
       "      <td>2.000000</td>\n",
       "      <td>1.000000</td>\n",
       "    </tr>\n",
       "    <tr>\n",
       "      <th>25%</th>\n",
       "      <td>3.500000</td>\n",
       "      <td>3.000000</td>\n",
       "    </tr>\n",
       "    <tr>\n",
       "      <th>50%</th>\n",
       "      <td>4.000000</td>\n",
       "      <td>4.000000</td>\n",
       "    </tr>\n",
       "    <tr>\n",
       "      <th>75%</th>\n",
       "      <td>4.000000</td>\n",
       "      <td>4.000000</td>\n",
       "    </tr>\n",
       "    <tr>\n",
       "      <th>max</th>\n",
       "      <td>5.000000</td>\n",
       "      <td>5.000000</td>\n",
       "    </tr>\n",
       "  </tbody>\n",
       "</table>\n",
       "</div>"
      ],
      "text/plain": [
       "       Accomplished 2021  Expecting to accomplish 2022\n",
       "count           7.000000                     16.000000\n",
       "mean            3.714286                      3.562500\n",
       "std             0.951190                      1.152895\n",
       "min             2.000000                      1.000000\n",
       "25%             3.500000                      3.000000\n",
       "50%             4.000000                      4.000000\n",
       "75%             4.000000                      4.000000\n",
       "max             5.000000                      5.000000"
      ]
     },
     "execution_count": 23,
     "metadata": {},
     "output_type": "execute_result"
    }
   ],
   "source": [
    "import pandas as pd\n",
    "import numpy as np\n",
    "import sklearn.preprocessing as preprocessing\n",
    "\n",
    "nuevo = pd.read_csv(\"nyr_data.csv\")\n",
    "\n",
    "#observamos los datos generales de la base\n",
    "nuevo.describe()"
   ]
  },
  {
   "cell_type": "code",
   "execution_count": 9,
   "id": "43bbe66c",
   "metadata": {},
   "outputs": [
    {
     "name": "stdout",
     "output_type": "stream",
     "text": [
      "Index(['State', 'Gender', 'Had 2021', '2021 category', 'Accomplished 2021',\n",
      "       'Have 2022', '2022 category', 'Expecting to accomplish 2022',\n",
      "       'Expecting to fail 2022', 'Generation'],\n",
      "      dtype='object')\n"
     ]
    }
   ],
   "source": [
    "#obtenemos el nombre de las variables del set de datos\n",
    "print(nuevo.columns)"
   ]
  },
  {
   "cell_type": "code",
   "execution_count": 21,
   "id": "20752c92",
   "metadata": {},
   "outputs": [
    {
     "data": {
      "text/html": [
       "<div>\n",
       "<style scoped>\n",
       "    .dataframe tbody tr th:only-of-type {\n",
       "        vertical-align: middle;\n",
       "    }\n",
       "\n",
       "    .dataframe tbody tr th {\n",
       "        vertical-align: top;\n",
       "    }\n",
       "\n",
       "    .dataframe thead th {\n",
       "        text-align: right;\n",
       "    }\n",
       "</style>\n",
       "<table border=\"1\" class=\"dataframe\">\n",
       "  <thead>\n",
       "    <tr style=\"text-align: right;\">\n",
       "      <th></th>\n",
       "      <th>State</th>\n",
       "      <th>Gender</th>\n",
       "      <th>Had 2021</th>\n",
       "      <th>2021 category</th>\n",
       "      <th>Accomplished 2021</th>\n",
       "      <th>Have 2022</th>\n",
       "      <th>2022 category</th>\n",
       "      <th>Expecting to accomplish 2022</th>\n",
       "      <th>Expecting to fail 2022</th>\n",
       "      <th>Generation</th>\n",
       "    </tr>\n",
       "  </thead>\n",
       "  <tbody>\n",
       "    <tr>\n",
       "      <th>0</th>\n",
       "      <td>TX</td>\n",
       "      <td>Male</td>\n",
       "      <td>Don't remember</td>\n",
       "      <td>NaN</td>\n",
       "      <td>NaN</td>\n",
       "      <td>Yes</td>\n",
       "      <td>Self improvement</td>\n",
       "      <td>4.0</td>\n",
       "      <td>No</td>\n",
       "      <td>Generation Z</td>\n",
       "    </tr>\n",
       "    <tr>\n",
       "      <th>1</th>\n",
       "      <td>NC</td>\n",
       "      <td>Female</td>\n",
       "      <td>No</td>\n",
       "      <td>NaN</td>\n",
       "      <td>NaN</td>\n",
       "      <td>No</td>\n",
       "      <td>NaN</td>\n",
       "      <td>NaN</td>\n",
       "      <td>NaN</td>\n",
       "      <td>Millenials</td>\n",
       "    </tr>\n",
       "    <tr>\n",
       "      <th>2</th>\n",
       "      <td>CA</td>\n",
       "      <td>Male</td>\n",
       "      <td>Yes</td>\n",
       "      <td>School</td>\n",
       "      <td>4.0</td>\n",
       "      <td>No</td>\n",
       "      <td>NaN</td>\n",
       "      <td>NaN</td>\n",
       "      <td>NaN</td>\n",
       "      <td>Generation Z</td>\n",
       "    </tr>\n",
       "    <tr>\n",
       "      <th>3</th>\n",
       "      <td>OR</td>\n",
       "      <td>Female</td>\n",
       "      <td>Yes</td>\n",
       "      <td>Health</td>\n",
       "      <td>4.0</td>\n",
       "      <td>Yes</td>\n",
       "      <td>Career</td>\n",
       "      <td>5.0</td>\n",
       "      <td>No</td>\n",
       "      <td>Generation Z</td>\n",
       "    </tr>\n",
       "    <tr>\n",
       "      <th>4</th>\n",
       "      <td>TX</td>\n",
       "      <td>Male</td>\n",
       "      <td>Yes</td>\n",
       "      <td>Family</td>\n",
       "      <td>5.0</td>\n",
       "      <td>Yes</td>\n",
       "      <td>Career</td>\n",
       "      <td>4.0</td>\n",
       "      <td>No</td>\n",
       "      <td>Generation X</td>\n",
       "    </tr>\n",
       "  </tbody>\n",
       "</table>\n",
       "</div>"
      ],
      "text/plain": [
       "  State  Gender        Had 2021 2021 category  Accomplished 2021 Have 2022  \\\n",
       "0    TX    Male  Don't remember           NaN                NaN       Yes   \n",
       "1    NC  Female              No           NaN                NaN        No   \n",
       "2    CA    Male             Yes        School                4.0        No   \n",
       "3    OR  Female             Yes        Health                4.0       Yes   \n",
       "4    TX    Male             Yes        Family                5.0       Yes   \n",
       "\n",
       "      2022 category  Expecting to accomplish 2022 Expecting to fail 2022  \\\n",
       "0  Self improvement                           4.0                     No   \n",
       "1               NaN                           NaN                    NaN   \n",
       "2               NaN                           NaN                    NaN   \n",
       "3            Career                           5.0                     No   \n",
       "4            Career                           4.0                     No   \n",
       "\n",
       "     Generation  \n",
       "0  Generation Z  \n",
       "1    Millenials  \n",
       "2  Generation Z  \n",
       "3  Generation Z  \n",
       "4  Generation X  "
      ]
     },
     "execution_count": 21,
     "metadata": {},
     "output_type": "execute_result"
    }
   ],
   "source": [
    "nuevo.head(5)"
   ]
  },
  {
   "cell_type": "code",
   "execution_count": 22,
   "id": "d8951d8d",
   "metadata": {},
   "outputs": [
    {
     "name": "stdout",
     "output_type": "stream",
     "text": [
      "(27, 10)\n"
     ]
    }
   ],
   "source": [
    "#revisamos el tamaño del dataframe\n",
    "print(nuevo.shape)"
   ]
  },
  {
   "cell_type": "markdown",
   "id": "db294eae",
   "metadata": {},
   "source": [
    "<h4> Diseño metodológico </h4>\n",
    "Podemos notar que el dataset solo tiene variables str porque en todas encontramos valores perdidos.\n",
    "El procedimiento sería el siguiente:\n",
    "    1. Aislar las variables que vamos a utilizar\n",
    "    2. Eliminar valores perdidos de esas variables (se podría imputar, pero la base es muy pequeña (n=27)\n",
    "    3. Recodificar las variables en variables categoriales numéricas\n",
    "Dado el tipo de variable, exploraremos si hay alguna correlación entre el estado de origen y la categoría de la meta propuesta en 2021"
   ]
  },
  {
   "cell_type": "code",
   "execution_count": 32,
   "id": "654c9543",
   "metadata": {},
   "outputs": [],
   "source": [
    "#Construir un dataframe con las variables que necesitamos\n",
    "\n",
    "\n",
    "analisis = pd.DataFrame(nuevo.iloc[:,[0,3]])"
   ]
  },
  {
   "cell_type": "code",
   "execution_count": 53,
   "id": "d70c95db",
   "metadata": {},
   "outputs": [
    {
     "name": "stdout",
     "output_type": "stream",
     "text": [
      "(7, 2)\n",
      "   State     2021 category\n",
      "2     CA            School\n",
      "3     OR            Health\n",
      "4     TX            Family\n",
      "5     MD  Self improvement\n",
      "6     AK             Money\n",
      "20    MA  Self improvement\n",
      "22    HI            Health\n"
     ]
    }
   ],
   "source": [
    "#Eliminar valores perdidos\n",
    "\n",
    "analisis_limpia = analisis.dropna()\n",
    "print(analisis_limpia.shape)\n",
    "print(analisis_limpia)"
   ]
  },
  {
   "cell_type": "code",
   "execution_count": 52,
   "id": "8f7d5bb8",
   "metadata": {},
   "outputs": [
    {
     "name": "stdout",
     "output_type": "stream",
     "text": [
      "   State     2021 category  Zona\n",
      "2     CA            School     0\n",
      "3     OR            Health     0\n",
      "4     TX            Family     1\n",
      "5     MD  Self improvement     1\n",
      "6     AK             Money     0\n",
      "20    MA  Self improvement     1\n",
      "22    HI            Health     0\n"
     ]
    },
    {
     "name": "stderr",
     "output_type": "stream",
     "text": [
      "C:\\Users\\Public\\Documents\\Wondershare\\CreatorTemp/ipykernel_14844/2167762627.py:21: SettingWithCopyWarning: \n",
      "A value is trying to be set on a copy of a slice from a DataFrame.\n",
      "Try using .loc[row_indexer,col_indexer] = value instead\n",
      "\n",
      "See the caveats in the documentation: https://pandas.pydata.org/pandas-docs/stable/user_guide/indexing.html#returning-a-view-versus-a-copy\n",
      "  analisis_limpia[\"Zona\"] = analisis_limpia[\"State\"].apply(set_values, args =(map_dictionary, ))\n"
     ]
    }
   ],
   "source": [
    "def set_values(row, value):\n",
    "    return value[row]\n",
    "   \n",
    "map_dictionary ={\"WA\" : 0,\n",
    "                 \"OR\" : 0,\n",
    "                 \"CA\" : 0,\n",
    "                 \"MT\" : 0, \n",
    "                 \"ID\" : 0, \n",
    "                 \"WY\" : 0, \n",
    "                 \"UT\" : 0, \n",
    "                 \"NV\" : 0, \n",
    "                 \"AZ\" : 0, \n",
    "                 \"NM\" : 0, \n",
    "                 \"CO\" : 0,\n",
    "                 \"AK\" : 0, \n",
    "                 \"HI\" : 0,\n",
    "                 \"TX\" : 1,\n",
    "                 \"MD\" : 1,\n",
    "                 \"MA\" : 1} \n",
    "   \n",
    "analisis_limpia[\"Zona\"] = analisis_limpia[\"State\"].apply(set_values, args =(map_dictionary, )) \n",
    "\n",
    "print(analisis_limpia)"
   ]
  },
  {
   "cell_type": "code",
   "execution_count": 49,
   "id": "fea38927",
   "metadata": {},
   "outputs": [
    {
     "ename": "SyntaxError",
     "evalue": "invalid syntax (CreatorTemp/ipykernel_14844/1505416884.py, line 2)",
     "output_type": "error",
     "traceback": [
      "\u001b[1;36m  File \u001b[1;32m\"C:\\Users\\Public\\Documents\\Wondershare\\CreatorTemp/ipykernel_14844/1505416884.py\"\u001b[1;36m, line \u001b[1;32m2\u001b[0m\n\u001b[1;33m    (analisis_limpia[\"State\"] = \"WA\"\u001b[0m\n\u001b[1;37m                              ^\u001b[0m\n\u001b[1;31mSyntaxError\u001b[0m\u001b[1;31m:\u001b[0m invalid syntax\n"
     ]
    }
   ],
   "source": [
    "conditionlist = [\n",
    "    (analisis_limpia[\"State\"] = \"WA\" \n",
    "     or \"OR\" \n",
    "     or \"CA\" \n",
    "     or \"MT\" \n",
    "     or \"ID\" \n",
    "     or \"WY\" \n",
    "     or \"UT\" \n",
    "     or \"NV\" \n",
    "     or \"AZ\" \n",
    "     or \"NM\" \n",
    "     or \"CO\" \n",
    "     or \"AK\" \n",
    "     or \"HI\"),\n",
    "    (analisis_limpia['State'] = else),\n",
    "\n",
    "]\n",
    "choicelist = [\"0\", \"1\"]\n",
    "analisis_limpia[\"Zona\"] = np.select(conditionlist, choicelist, default='Not Specified')"
   ]
  },
  {
   "cell_type": "code",
   "execution_count": 44,
   "id": "ffb1379e",
   "metadata": {},
   "outputs": [
    {
     "name": "stdout",
     "output_type": "stream",
     "text": [
      "2     CA\n",
      "3     OR\n",
      "4     TX\n",
      "5     MD\n",
      "6     AK\n",
      "20    MA\n",
      "22    HI\n",
      "Name: State, dtype: object\n"
     ]
    }
   ],
   "source": [
    "zona = analisis_limpia[\"State\"]\n",
    "for n in zona:\n",
    "    0 == \"WA\", \"OR\", \"CA\", \"MT\", \"ID\", \"WY\", \"UT\", \"NV\", \"AZ\", \"NM\", \"CO\", \"AK\", \"HI\"\n",
    "print(zona)"
   ]
  },
  {
   "cell_type": "code",
   "execution_count": null,
   "id": "4401785b",
   "metadata": {},
   "outputs": [],
   "source": []
  }
 ],
 "metadata": {
  "kernelspec": {
   "display_name": "Python 3 (ipykernel)",
   "language": "python",
   "name": "python3"
  },
  "language_info": {
   "codemirror_mode": {
    "name": "ipython",
    "version": 3
   },
   "file_extension": ".py",
   "mimetype": "text/x-python",
   "name": "python",
   "nbconvert_exporter": "python",
   "pygments_lexer": "ipython3",
   "version": "3.9.7"
  }
 },
 "nbformat": 4,
 "nbformat_minor": 5
}
