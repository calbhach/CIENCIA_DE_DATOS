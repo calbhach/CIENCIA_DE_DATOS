{
 "cells": [
  {
   "cell_type": "markdown",
   "metadata": {},
   "source": [
    "# Ejercicio\n",
    "\n",
    "Seleccionar todas las columnas de un `DataFrame`, excepto una en particular.\n",
    "\n",
    "datos = {'X': [1, 2, 3, 4, 1], 'Y': [5, 2, 3, 2, 0], 'Z': [2, 2, 5, 7, 1]}\n",
    "\n",
    "df = pd.DataFrame(data=datos)\n",
    "\n",
    "Agreagar un Columna\n",
    "\n",
    "Crear un nuevo dataframe con dos columnas\n"
   ]
  },
  {
   "cell_type": "code",
   "execution_count": 23,
   "metadata": {},
   "outputs": [
    {
     "name": "stdout",
     "output_type": "stream",
     "text": [
      "   X  Y\n",
      "0  1  5\n",
      "1  2  2\n",
      "2  3  3\n",
      "3  4  2\n",
      "4  1  0\n",
      "   X  Y  A\n",
      "0  1  5  9\n",
      "1  2  2  8\n",
      "2  3  3  7\n",
      "3  4  2  6\n",
      "4  1  0  5\n",
      "     A   B\n",
      "0   82  57\n",
      "1   44  56\n",
      "2   52  35\n",
      "3   15   7\n",
      "4   26  77\n",
      "5   67  65\n",
      "6   29  64\n",
      "7   87  35\n",
      "8   48  21\n",
      "9   14  59\n",
      "10  19  19\n",
      "11   7  80\n",
      "12  21  40\n",
      "13  92  74\n",
      "14  88  34\n",
      "15  92  22\n",
      "16  85  45\n",
      "17   3  78\n",
      "18  31   1\n",
      "19  79  55\n",
      "20  65  39\n",
      "21  92  81\n",
      "22  56  15\n",
      "23  41  92\n",
      "24  68  19\n",
      "25  50  18\n",
      "26  91  36\n",
      "27  86  78\n",
      "28  41  22\n",
      "29   8  53\n"
     ]
    }
   ],
   "source": [
    "import pandas as pd\n",
    "import numpy as np\n",
    "\n",
    "datos = {'X': [1, 2, 3, 4, 1], \n",
    "         'Y': [5, 2, 3, 2, 0], \n",
    "         'Z': [2, 2, 5, 7, 1]}\n",
    "\n",
    "df = pd.DataFrame(data=datos)\n",
    "\n",
    "#seleccionar todas las columnas menos una\n",
    "lista = list(df)\n",
    "extract = lista[0:-1]\n",
    "\n",
    "df1 = df[extract]\n",
    "\n",
    "#revision\n",
    "print(df1)\n",
    "\n",
    "#agregar una columna\n",
    "columna1 = [9, 8, 7, 6, 5]\n",
    "df1['A'] = columna1\n",
    "\n",
    "\n",
    "#revision\n",
    "print(df1)\n",
    "\n",
    "#Crear un nuevo dataframe con dos columnas\n",
    "\n",
    "df2 = pd.DataFrame(np.random.randint(0,100,size=(30, 2)), columns=list('AB'))\n",
    "\n",
    "print(df2)\n",
    "#df1 = pd.DataFrame()\n",
    "\n"
   ]
  },
  {
   "cell_type": "markdown",
   "metadata": {},
   "source": [
    "# Ejercicio\n",
    "\n",
    "Eliminar los nulos y utilizar la funcion plot\n",
    "\n",
    "nombre = ['Oliva', 'Daniela', 'Juan', 'Germán', 'Edward', 'Alex', 'Julio', \n",
    "          'Edgar', 'Angie', 'Irlesa']\n",
    "\n",
    "puntaje = [11.5, 8, 15.5, np.nan, 8, 19, 13.5, np.nan, 8, 18]\n",
    "\n",
    "intentos = [1, 3, 2, 3, 2, 3, 1, 1, 2, 1]\n",
    "\n",
    "califico = ['Sí', 'No', 'Sí', 'No', 'No', 'Sí', 'Sí', 'No', 'No', 'Sí']\n",
    "\n",
    "indices = ['a', 'b', 'c', 'd', 'e', 'f', 'g', 'h', 'i', 'j']\n",
    "\n",
    "jugadores = {'nombre': nombre, 'puntaje': puntaje, 'intentos': intentos, \n",
    "             'califico': califico}\n",
    "\n",
    "df = pd.DataFrame(data=jugadores, index=indices)"
   ]
  },
  {
   "cell_type": "code",
   "execution_count": 40,
   "metadata": {},
   "outputs": [
    {
     "name": "stdout",
     "output_type": "stream",
     "text": [
      "    nombre  puntaje  intentos califico\n",
      "a    Oliva     11.5         1       Sí\n",
      "b  Daniela      8.0         3       No\n",
      "c     Juan     15.5         2       Sí\n",
      "e   Edward      8.0         2       No\n",
      "f     Alex     19.0         3       Sí\n",
      "g    Julio     13.5         1       Sí\n",
      "i    Angie      8.0         2       No\n",
      "j   Irlesa     18.0         1       Sí\n"
     ]
    },
    {
     "data": {
      "text/plain": [
       "<AxesSubplot:>"
      ]
     },
     "execution_count": 40,
     "metadata": {},
     "output_type": "execute_result"
    },
    {
     "data": {
      "image/png": "[encoded data removed]",
      "text/plain": [
       "<Figure size 432x288 with 1 Axes>"
      ]
     },
     "metadata": {
      "needs_background": "light"
     },
     "output_type": "display_data"
    }
   ],
   "source": [
    "import numpy as np\n",
    "import pandas as pd\n",
    "\n",
    "nombre = ['Oliva', 'Daniela', 'Juan', 'Germán', 'Edward', 'Alex', 'Julio', 'Edgar', 'Angie', 'Irlesa']\n",
    "\n",
    "puntaje = [11.5, 8, 15.5, np.nan, 8, 19, 13.5, np.nan, 8, 18]\n",
    "\n",
    "intentos = [1, 3, 2, 3, 2, 3, 1, 1, 2, 1]\n",
    "\n",
    "califico = ['Sí', 'No', 'Sí', 'No', 'No', 'Sí', 'Sí', 'No', 'No', 'Sí']\n",
    "\n",
    "indices = ['a', 'b', 'c', 'd', 'e', 'f', 'g', 'h', 'i', 'j']\n",
    "\n",
    "jugadores = {'nombre': nombre, 'puntaje': puntaje, 'intentos': intentos, 'califico': califico}\n",
    "\n",
    "df = pd.DataFrame(data=jugadores, index=indices)\n",
    "\n",
    "#eliminación de datos perdidos\n",
    "df = df.dropna()\n",
    "\n",
    "#revisión\n",
    "print(df)\n",
    "\n",
    "#usar función plot\n",
    "\n",
    "df.plot(kind='bar')\n"
   ]
  },
  {
   "cell_type": "markdown",
   "metadata": {},
   "source": [
    "# Ejercicio\n",
    "\n",
    "Crear un gráfico de barras a partir de un objeto \n",
    "\n",
    "nombre = ['Oliva', 'Daniela', 'Juan', 'Germán', 'Edward', 'Alex', 'Julio', \n",
    "          'Edgar', 'Angie', 'Irlesa']\n",
    "\n",
    "puntaje = [11.5, 8, 15.5, np.nan, 8, 19, 13.5, np.nan, 8, 18]\n",
    "\n",
    "intentos = [1, 3, 2, 3, 2, 3, 1, 1, 2, 1]\n",
    "\n",
    "califico = ['Sí', 'No', 'Sí', 'No', 'No', 'Sí', 'Sí', 'No', 'No', 'Sí']\n",
    "\n",
    "indices = ['a', 'b', 'c', 'd', 'e', 'f', 'g', 'h', 'i', 'j']\n",
    "\n",
    "jugadores = {'nombre': nombre, 'puntaje': puntaje, 'intentos': intentos, \n",
    "             'califico': califico}\n",
    "\n",
    "df = pd.DataFrame(data=jugadores, index=indices)\n"
   ]
  },
  {
   "cell_type": "code",
   "execution_count": 42,
   "metadata": {},
   "outputs": [
    {
     "data": {
      "text/plain": [
       "<AxesSubplot:xlabel='califico'>"
      ]
     },
     "execution_count": 42,
     "metadata": {},
     "output_type": "execute_result"
    },
    {
     "data": {
      "image/png": "[encoded data removed]",
      "text/plain": [
       "<Figure size 432x288 with 1 Axes>"
      ]
     },
     "metadata": {
      "needs_background": "light"
     },
     "output_type": "display_data"
    }
   ],
   "source": [
    "import pandas as pd\n",
    "import numpy as np\n",
    "\n",
    "nombre = ['Oliva', 'Daniela', 'Juan', 'Germán', 'Edward', 'Alex', 'Julio', 'Edgar', 'Angie', 'Irlesa']\n",
    "\n",
    "puntaje = [11.5, 8, 15.5, np.nan, 8, 19, 13.5, np.nan, 8, 18]\n",
    "\n",
    "intentos = [1, 3, 2, 3, 2, 3, 1, 1, 2, 1]\n",
    "\n",
    "califico = ['Sí', 'No', 'Sí', 'No', 'No', 'Sí', 'Sí', 'No', 'No', 'Sí']\n",
    "\n",
    "indices = ['a', 'b', 'c', 'd', 'e', 'f', 'g', 'h', 'i', 'j']\n",
    "\n",
    "jugadores = {'nombre': nombre, 'puntaje': puntaje, 'intentos': intentos, 'califico': califico}\n",
    "\n",
    "df = pd.DataFrame(data=jugadores, index=indices)\n",
    "\n",
    "#crear un gráfico de barras a partir de un objeto\n",
    "\n",
    "df.plot('califico', kind='bar')\n",
    "\n"
   ]
  },
  {
   "cell_type": "markdown",
   "metadata": {},
   "source": [
    "# Ejercicio\n",
    "\n",
    "\n",
    "\n",
    "Leer el archivo employees.csv\n",
    "\n",
    "Mostrar los primero 10 registros\n",
    "\n",
    "Obtener los registros donde el nombre de un empleado empiece con *J*.\n",
    "\n",
    "\n",
    "Obtener aquellos empleados donde su apellido no contenga la letra *h*.\n",
    "\n",
    "Ordenar en modo descendente los empleados a partir de su ID de departamento.\n",
    "\n",
    "Obtener el empleado que es gerente de la empresa.\n",
    "\n",
    "Encontrar todos los empleados que están a cargo de un jefe.\n",
    "\n",
    "Encontrar los empleados cuyo nombre termina en la letra a.\n",
    "\n",
    "Obtener empleados cuyo nombre empiece ya sea por _a_, _l_ o _r_. Ordenar por ID de departamento.\n",
    "\n",
    "Obtener los empleados que pertenezcan ya sea a los departamentos con ID 80 ó 30.\n",
    "\n",
    "Obtener empleados cuyo jefe tenga como ID 100, 124, o 149.\n",
    "\n",
    "Encontrar aquellos empleados que en su nombre la tercera letra es una _r_.\n",
    "\n",
    "Obtener los empleados que **no** pertenezcan a los departamentos con ID 80 ó 30."
   ]
  },
  {
   "cell_type": "code",
   "execution_count": 213,
   "metadata": {},
   "outputs": [
    {
     "name": "stdout",
     "output_type": "stream",
     "text": [
      "     employ_id first_name last_name     email  phone_number   hire_date  \\\n",
      "0          100     Steven      King     SKING  515.123.4567  1987-06-17   \n",
      "1          101      Neena   Kochhar  NKOCHHAR  515.123.4568  1987-06-18   \n",
      "2          102        Lex   De Haan   LDEHAAN  515.123.4569  1987-06-19   \n",
      "3          103  Alexander    Hunold   AHUNOLD  590.423.4567  1987-06-20   \n",
      "4          104      Bruce     Ernst    BERNST  590.423.4568  1987-06-21   \n",
      "..         ...        ...       ...       ...           ...         ...   \n",
      "102        202        Pat       Fay      PFAY  603.123.6666  1987-09-27   \n",
      "103        203      Susan    Mavris   SMAVRIS  515.123.7777  1987-09-28   \n",
      "104        204    Hermann      Baer     HBAER  515.123.8888  1987-09-29   \n",
      "105        205    Shelley   Higgins  SHIGGINS  515.123.8080  1987-09-30   \n",
      "106        206    William     Gietz    WGIETZ  515.123.8181  1987-10-01   \n",
      "\n",
      "         job_id  salary  commission_pct  manager_id  department_id  \n",
      "0       AD_PRES   24000             NaN         NaN           90.0  \n",
      "1         AD_VP   17000             NaN       100.0           90.0  \n",
      "2         AD_VP   17000             NaN       100.0           90.0  \n",
      "3       IT_PROG    9000             NaN       102.0           60.0  \n",
      "4       IT_PROG    6000             NaN       103.0           60.0  \n",
      "..          ...     ...             ...         ...            ...  \n",
      "102      MK_REP    6000             NaN       201.0           20.0  \n",
      "103      HR_REP    6500             NaN       101.0           40.0  \n",
      "104      PR_REP   10000             NaN       101.0           70.0  \n",
      "105      AC_MGR   12000             NaN       101.0          110.0  \n",
      "106  AC_ACCOUNT    8300             NaN       205.0          110.0  \n",
      "\n",
      "[101 rows x 11 columns]\n"
     ]
    }
   ],
   "source": [
    "import pandas as pd\n",
    "\n",
    "#mostrar primeros 10 registros\n",
    "trabajadores = pd.read_csv('employees.csv')\n",
    "trabajadores_corto = trabajadores.head(10)\n",
    "\n",
    "#Obtener los registros donde el nombre de un empleado empiece con J.\n",
    "\n",
    "df = trabajadores[trabajadores['first_name'].astype(str).str.startswith('J')]\n",
    "print(df)\n",
    "        \n",
    "#Obtener aquellos empleados donde su apellido no contenga la letra h.\n",
    "df2 = trabajadores[~trabajadores['last_name'].astype(str).str.contains('h')]\n",
    "print(df2)\n",
    "\n",
    "#Si se requiere eliminar todas las h, minúscula o mayúscula\n",
    "# df2 = trabajadores[~trabajadores['last_name'].astype(str).str.contains('h|H', regex=True)]\n",
    "\n",
    "#Ordenar en modo descendente los empleados a partir de su ID de departamento.\n",
    "df3 = trabajadores.sort_values('department_id', ascending=False)\n",
    "print(df3)\n",
    "\n",
    "#Obtener el empleado que es gerente de la empresa.\n",
    "\n",
    "#Revisión valores únicos en manager, asumiendo que ese es su jefe\n",
    "#print(trabajadores['manager_id'].unique())\n",
    "\n",
    "df4 = trabajadores[trabajadores['manager_id'].isna()]\n",
    "print(df4)\n",
    "\n",
    "#Encontrar todos los empleados que están a cargo de un jefe.\n",
    "df5 = trabajadores[~trabajadores['manager_id'].isna()]\n",
    "print(df5)\n",
    "\n",
    "#Encontrar los empleados cuyo nombre termina en la letra a.\n",
    "df6 = trabajadores[trabajadores['first_name'].astype(str).str.endswith('a')]\n",
    "print(df6)\n",
    "\n",
    "#Obtener empleados cuyo nombre empiece ya sea por a, l o r. Ordenar por ID de departamento.\n",
    "df7 = trabajadores[trabajadores['first_name'].astype(str).str.startswith((\"A\" , \"L\" , \"R\"))]\n",
    "df7 = df7.sort_values('department_id', ascending=True)\n",
    "print(df7)\n",
    "\n",
    "#Obtener los empleados que pertenezcan ya sea a los departamentos con ID 80 ó 30.\n",
    "#df7 = trabajadores[trabajadores['department_id'].astype(str).str.startswith((\"80\" , \"30\"))]\n",
    "df8 = trabajadores.loc[(trabajadores['department_id'] == 30) | (trabajadores['department_id'] == 80)]\n",
    "print(df8)\n",
    "\n",
    "#Obtener empleados cuyo jefe tenga como ID 100, 124, o 149.\n",
    "#df9 = trabajadores.loc[(trabajadores['manager_id'] == 100) | (trabajadores['manager_id'] == 124) | (trabajadores['manager_id'] == 149)]\n",
    "\n",
    "df9 = trabajadores.loc[trabajadores['manager_id'].isin((100 , 124 , 149))]\n",
    "print(df9)\n",
    "\n",
    "#Encontrar aquellos empleados que en su nombre la tercera letra es una r.\n",
    "\n",
    "#df10 = trabajadores[\"first_name\"] = data[\"Name\"].str.find(sub) \n",
    "df10 = trabajadores[trabajadores['first_name'].astype(str).str.find('r') == 2]\n",
    "print(df10)\n",
    "\n",
    "#Obtener los empleados que no pertenezcan a los departamentos con ID 80 ó 30.\n",
    "df11 = trabajadores.loc[~(trabajadores['department_id'] == 30) | (trabajadores['department_id'] == 80)]\n",
    "print(df11)"
   ]
  },
  {
   "cell_type": "markdown",
   "metadata": {},
   "source": [
    "# Ejercicio\n",
    "\n",
    "\n",
    "\n",
    "Leer el archivo locations.csv\n",
    "\n",
    "Mostrar los primero 10 registros\n",
    "\n",
    "Determinar si una ubicación no se le ha asignado un estado/departamento.\n",
    "\n",
    "Consultar la cantidad de datos faltantes (nulos) por columna del dataset de ubicaciones.\n",
    "\n",
    "\n"
   ]
  },
  {
   "cell_type": "code",
   "execution_count": null,
   "metadata": {},
   "outputs": [],
   "source": []
  },
  {
   "cell_type": "code",
   "execution_count": 260,
   "metadata": {},
   "outputs": [
    {
     "name": "stdout",
     "output_type": "stream",
     "text": [
      "{'country_id': 0, 'location_id': 0, 'street_address': 0, 'postal_code': 1, 'city': 0, 'state_province': 6}\n"
     ]
    }
   ],
   "source": [
    "import pandas as pd\n",
    "import numpy as np\n",
    "\n",
    "#leer archivo \n",
    "locations = pd.read_csv('locations.csv')\n",
    "\n",
    "#mostrar los primeros 10 registros\n",
    "#print(locations.head(10))\n",
    "\n",
    "#determinar si una ubicación no se le ha asignado un estado/departamento.\n",
    "df1 = locations[locations['state_province'].isna()]\n",
    "#print(df1)\n",
    "\n",
    "#Consultar la cantidad de datos faltantes (nulos) por columna del dataset de ubicaciones.\n",
    "\n",
    "    #df2 = locations[list(locations)].value_counts(dropna=False)\n",
    "\n",
    " \n",
    "extract = list(locations)\n",
    "for c in extract:\n",
    "    count = locations[c].isnull().sum()\n",
    "    frame_conteo[c]=count\n",
    "print(frame_conteo)\n",
    "\n",
    "\n"
   ]
  },
  {
   "cell_type": "code",
   "execution_count": null,
   "metadata": {},
   "outputs": [],
   "source": []
  }
 ],
 "metadata": {
  "interpreter": {
   "hash": "fab0fde1f71e321925cb1aef8c0cc22058c43e5af495092d945cf5715ad1ad3a"
  },
  "kernelspec": {
   "display_name": "Python 3 (ipykernel)",
   "language": "python",
   "name": "python3"
  },
  "language_info": {
   "codemirror_mode": {
    "name": "ipython",
    "version": 3
   },
   "file_extension": ".py",
   "mimetype": "text/x-python",
   "name": "python",
   "nbconvert_exporter": "python",
   "pygments_lexer": "ipython3",
   "version": "3.9.7"
  }
 },
 "nbformat": 4,
 "nbformat_minor": 2
}
